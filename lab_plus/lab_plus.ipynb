{
 "cells": [
  {
   "cell_type": "markdown",
   "metadata": {},
   "source": [
    "## Breast cancer data ##"
   ]
  },
  {
   "cell_type": "markdown",
   "metadata": {},
   "source": [
    "### This breast cancer domain was obtained from the University Medical Centre, Institute of Oncology, Ljubljana, Yugoslavia."
   ]
  },
  {
   "cell_type": "markdown",
   "metadata": {},
   "source": [
    "Уникальные значения признаков:<br><br>\n",
    "\n",
    "1. Class: no-recurrence-events, recurrence-events\n",
    "2. age: 10-19, 20-29, 30-39, 40-49, 50-59, 60-69, 70-79, 80-89, 90-99.\n",
    "3. menopause: lt40, ge40, premeno.\n",
    "4. tumor-size: 0-4, 5-9, 10-14, 15-19, 20-24, 25-29, 30-34, 35-39, 40-44, 45-49, 50-54, 55-59.\n",
    "5. inv-nodes: 0-2, 3-5, 6-8, 9-11, 12-14, 15-17, 18-20, 21-23, 24-26, 27-29, 30-32, 33-35, 36-39.\n",
    "6. node-caps: yes, no.\n",
    "7. deg-malig: 1, 2, 3.\n",
    "8. breast: left, right.\n",
    "9. breast-quad: left-up, left-low, right-up, right-low, central.\n",
    "10. irradiat: yes, no."
   ]
  },
  {
   "cell_type": "code",
   "execution_count": 175,
   "metadata": {},
   "outputs": [],
   "source": [
    "import pandas as pd\n",
    "import numpy as np\n",
    "import seaborn as sns\n",
    "import matplotlib.pyplot as plt\n",
    "\n",
    "from sklearn.linear_model import LogisticRegression\n",
    "from sklearn.linear_model import LinearRegression, Lasso\n",
    "from sklearn.metrics.regression import mean_squared_error\n",
    "from sklearn.model_selection import train_test_split\n",
    "from sklearn.linear_model import LogisticRegression\n",
    "from sklearn.ensemble import GradientBoostingClassifier, RandomForestClassifier, AdaBoostClassifier\n",
    "from sklearn.tree import DecisionTreeClassifier"
   ]
  },
  {
   "cell_type": "code",
   "execution_count": 2,
   "metadata": {},
   "outputs": [
    {
     "data": {
      "text/html": [
       "<div>\n",
       "<style scoped>\n",
       "    .dataframe tbody tr th:only-of-type {\n",
       "        vertical-align: middle;\n",
       "    }\n",
       "\n",
       "    .dataframe tbody tr th {\n",
       "        vertical-align: top;\n",
       "    }\n",
       "\n",
       "    .dataframe thead th {\n",
       "        text-align: right;\n",
       "    }\n",
       "</style>\n",
       "<table border=\"1\" class=\"dataframe\">\n",
       "  <thead>\n",
       "    <tr style=\"text-align: right;\">\n",
       "      <th></th>\n",
       "      <th>age</th>\n",
       "      <th>menopause</th>\n",
       "      <th>tumor-size</th>\n",
       "      <th>inv-nodes</th>\n",
       "      <th>node-caps</th>\n",
       "      <th>deg-malig</th>\n",
       "      <th>breast</th>\n",
       "      <th>breast-quad</th>\n",
       "      <th>irradiat</th>\n",
       "      <th>Class</th>\n",
       "    </tr>\n",
       "  </thead>\n",
       "  <tbody>\n",
       "    <tr>\n",
       "      <th>0</th>\n",
       "      <td>'40-49'</td>\n",
       "      <td>'premeno'</td>\n",
       "      <td>'15-19'</td>\n",
       "      <td>'0-2'</td>\n",
       "      <td>'yes'</td>\n",
       "      <td>'3'</td>\n",
       "      <td>'right'</td>\n",
       "      <td>'left_up'</td>\n",
       "      <td>'no'</td>\n",
       "      <td>'recurrence-events'</td>\n",
       "    </tr>\n",
       "    <tr>\n",
       "      <th>1</th>\n",
       "      <td>'50-59'</td>\n",
       "      <td>'ge40'</td>\n",
       "      <td>'15-19'</td>\n",
       "      <td>'0-2'</td>\n",
       "      <td>'no'</td>\n",
       "      <td>'1'</td>\n",
       "      <td>'right'</td>\n",
       "      <td>'central'</td>\n",
       "      <td>'no'</td>\n",
       "      <td>'no-recurrence-events'</td>\n",
       "    </tr>\n",
       "    <tr>\n",
       "      <th>2</th>\n",
       "      <td>'50-59'</td>\n",
       "      <td>'ge40'</td>\n",
       "      <td>'35-39'</td>\n",
       "      <td>'0-2'</td>\n",
       "      <td>'no'</td>\n",
       "      <td>'2'</td>\n",
       "      <td>'left'</td>\n",
       "      <td>'left_low'</td>\n",
       "      <td>'no'</td>\n",
       "      <td>'recurrence-events'</td>\n",
       "    </tr>\n",
       "    <tr>\n",
       "      <th>3</th>\n",
       "      <td>'40-49'</td>\n",
       "      <td>'premeno'</td>\n",
       "      <td>'35-39'</td>\n",
       "      <td>'0-2'</td>\n",
       "      <td>'yes'</td>\n",
       "      <td>'3'</td>\n",
       "      <td>'right'</td>\n",
       "      <td>'left_low'</td>\n",
       "      <td>'yes'</td>\n",
       "      <td>'no-recurrence-events'</td>\n",
       "    </tr>\n",
       "    <tr>\n",
       "      <th>4</th>\n",
       "      <td>'40-49'</td>\n",
       "      <td>'premeno'</td>\n",
       "      <td>'30-34'</td>\n",
       "      <td>'3-5'</td>\n",
       "      <td>'yes'</td>\n",
       "      <td>'2'</td>\n",
       "      <td>'left'</td>\n",
       "      <td>'right_up'</td>\n",
       "      <td>'no'</td>\n",
       "      <td>'recurrence-events'</td>\n",
       "    </tr>\n",
       "  </tbody>\n",
       "</table>\n",
       "</div>"
      ],
      "text/plain": [
       "       age  menopause tumor-size inv-nodes node-caps deg-malig   breast  \\\n",
       "0  '40-49'  'premeno'    '15-19'     '0-2'     'yes'       '3'  'right'   \n",
       "1  '50-59'     'ge40'    '15-19'     '0-2'      'no'       '1'  'right'   \n",
       "2  '50-59'     'ge40'    '35-39'     '0-2'      'no'       '2'   'left'   \n",
       "3  '40-49'  'premeno'    '35-39'     '0-2'     'yes'       '3'  'right'   \n",
       "4  '40-49'  'premeno'    '30-34'     '3-5'     'yes'       '2'   'left'   \n",
       "\n",
       "  breast-quad irradiat                   Class  \n",
       "0   'left_up'     'no'     'recurrence-events'  \n",
       "1   'central'     'no'  'no-recurrence-events'  \n",
       "2  'left_low'     'no'     'recurrence-events'  \n",
       "3  'left_low'    'yes'  'no-recurrence-events'  \n",
       "4  'right_up'     'no'     'recurrence-events'  "
      ]
     },
     "execution_count": 2,
     "metadata": {},
     "output_type": "execute_result"
    }
   ],
   "source": [
    "data = pd.read_csv('breast-cancer.csv', sep=',')\n",
    "data.head()"
   ]
  },
  {
   "cell_type": "code",
   "execution_count": 25,
   "metadata": {},
   "outputs": [
    {
     "data": {
      "text/plain": [
       "(286, 10)"
      ]
     },
     "execution_count": 25,
     "metadata": {},
     "output_type": "execute_result"
    }
   ],
   "source": [
    "data.shape"
   ]
  },
  {
   "cell_type": "markdown",
   "metadata": {},
   "source": [
    "**Выведем тип данных**"
   ]
  },
  {
   "cell_type": "code",
   "execution_count": 3,
   "metadata": {},
   "outputs": [
    {
     "name": "stdout",
     "output_type": "stream",
     "text": [
      "<class 'pandas.core.frame.DataFrame'>\n",
      "RangeIndex: 286 entries, 0 to 285\n",
      "Data columns (total 10 columns):\n",
      "age            286 non-null object\n",
      "menopause      286 non-null object\n",
      "tumor-size     286 non-null object\n",
      "inv-nodes      286 non-null object\n",
      "node-caps      286 non-null object\n",
      "deg-malig      286 non-null object\n",
      "breast         286 non-null object\n",
      "breast-quad    286 non-null object\n",
      "irradiat       286 non-null object\n",
      "Class          286 non-null object\n",
      "dtypes: object(10)\n",
      "memory usage: 22.4+ KB\n"
     ]
    }
   ],
   "source": [
    "data.info()"
   ]
  },
  {
   "cell_type": "code",
   "execution_count": 5,
   "metadata": {},
   "outputs": [
    {
     "data": {
      "text/html": [
       "<div>\n",
       "<style scoped>\n",
       "    .dataframe tbody tr th:only-of-type {\n",
       "        vertical-align: middle;\n",
       "    }\n",
       "\n",
       "    .dataframe tbody tr th {\n",
       "        vertical-align: top;\n",
       "    }\n",
       "\n",
       "    .dataframe thead th {\n",
       "        text-align: right;\n",
       "    }\n",
       "</style>\n",
       "<table border=\"1\" class=\"dataframe\">\n",
       "  <thead>\n",
       "    <tr style=\"text-align: right;\">\n",
       "      <th></th>\n",
       "      <th>count</th>\n",
       "      <th>unique</th>\n",
       "      <th>top</th>\n",
       "      <th>freq</th>\n",
       "    </tr>\n",
       "  </thead>\n",
       "  <tbody>\n",
       "    <tr>\n",
       "      <th>age</th>\n",
       "      <td>286</td>\n",
       "      <td>6</td>\n",
       "      <td>'50-59'</td>\n",
       "      <td>96</td>\n",
       "    </tr>\n",
       "    <tr>\n",
       "      <th>menopause</th>\n",
       "      <td>286</td>\n",
       "      <td>3</td>\n",
       "      <td>'premeno'</td>\n",
       "      <td>150</td>\n",
       "    </tr>\n",
       "    <tr>\n",
       "      <th>tumor-size</th>\n",
       "      <td>286</td>\n",
       "      <td>11</td>\n",
       "      <td>'30-34'</td>\n",
       "      <td>60</td>\n",
       "    </tr>\n",
       "    <tr>\n",
       "      <th>inv-nodes</th>\n",
       "      <td>286</td>\n",
       "      <td>7</td>\n",
       "      <td>'0-2'</td>\n",
       "      <td>213</td>\n",
       "    </tr>\n",
       "    <tr>\n",
       "      <th>node-caps</th>\n",
       "      <td>286</td>\n",
       "      <td>3</td>\n",
       "      <td>'no'</td>\n",
       "      <td>222</td>\n",
       "    </tr>\n",
       "    <tr>\n",
       "      <th>deg-malig</th>\n",
       "      <td>286</td>\n",
       "      <td>3</td>\n",
       "      <td>'2'</td>\n",
       "      <td>130</td>\n",
       "    </tr>\n",
       "    <tr>\n",
       "      <th>breast</th>\n",
       "      <td>286</td>\n",
       "      <td>2</td>\n",
       "      <td>'left'</td>\n",
       "      <td>152</td>\n",
       "    </tr>\n",
       "    <tr>\n",
       "      <th>breast-quad</th>\n",
       "      <td>286</td>\n",
       "      <td>6</td>\n",
       "      <td>'left_low'</td>\n",
       "      <td>110</td>\n",
       "    </tr>\n",
       "    <tr>\n",
       "      <th>irradiat</th>\n",
       "      <td>286</td>\n",
       "      <td>2</td>\n",
       "      <td>'no'</td>\n",
       "      <td>218</td>\n",
       "    </tr>\n",
       "    <tr>\n",
       "      <th>Class</th>\n",
       "      <td>286</td>\n",
       "      <td>2</td>\n",
       "      <td>'no-recurrence-events'</td>\n",
       "      <td>201</td>\n",
       "    </tr>\n",
       "  </tbody>\n",
       "</table>\n",
       "</div>"
      ],
      "text/plain": [
       "            count unique                     top freq\n",
       "age           286      6                 '50-59'   96\n",
       "menopause     286      3               'premeno'  150\n",
       "tumor-size    286     11                 '30-34'   60\n",
       "inv-nodes     286      7                   '0-2'  213\n",
       "node-caps     286      3                    'no'  222\n",
       "deg-malig     286      3                     '2'  130\n",
       "breast        286      2                  'left'  152\n",
       "breast-quad   286      6              'left_low'  110\n",
       "irradiat      286      2                    'no'  218\n",
       "Class         286      2  'no-recurrence-events'  201"
      ]
     },
     "execution_count": 5,
     "metadata": {},
     "output_type": "execute_result"
    }
   ],
   "source": [
    "df = data.describe()\n",
    "df.head().T"
   ]
  },
  {
   "cell_type": "markdown",
   "metadata": {},
   "source": [
    "**Реализуем функцию для статистики данных: отсортируем по признакам и посчитаем количество, а так же выведем процент и построим графики.** </br>\n",
    "1. На графике видно, что развитие болезни больше всего наблюдается у женщин в возрасте 50-59 лет и процент составляет 33.566, а меньше всего в возрасте 20-29, и процент составляет 0.349 </br>\n",
    "2. На графике видна зависимость болезни от возраста. Наибольшее значение это premeno и 52.447%</br>\n",
    "3. На графике видна зависимость менопаузы и возраста. Наибольшее значение это 30-34 года и 20.979%</br>\n",
    "4. На графике видна зависимость размера опухоли. Наибольшее значение это 0-2 и 74.475%</br>\n",
    "5. На графике видно наличие inv-узлов. Наибольшее значение это \"нет\" = 222 и 77.622%</br>\n",
    "6. На графике видно наличие node-caps. Наибольшее значение это 2 и 45.454%</br>\n",
    "7. На графике видно наличие правой и левой deg-malig. Наибольшее значение это левое и 53.146%</br>\n",
    "8. На графике видна зависимость расположения болезни. Наибольшее значение это left low и 38.461%</br>\n",
    "9. На графике видно наличие brest-quad. Наибольшее значение это \"нет\" и 76.223%</br>\n",
    "10. На графике видно наличие irradiat. Наибольшее значение это no-reccurrence-events и 70.297%</br>"
   ]
  },
  {
   "cell_type": "code",
   "execution_count": 6,
   "metadata": {},
   "outputs": [
    {
     "data": {
      "image/png": "[encoded data removed]",
      "text/plain": [
       "<Figure size 432x288 with 1 Axes>"
      ]
     },
     "metadata": {
      "needs_background": "light"
     },
     "output_type": "display_data"
    },
    {
     "name": "stdout",
     "output_type": "stream",
     "text": [
      "'50-59'    96\n",
      "'40-49'    90\n",
      "'60-69'    57\n",
      "'30-39'    36\n",
      "'70-79'     6\n",
      "'20-29'     1\n",
      "Name: age, dtype: int64 \n",
      "\n",
      "Percentage:  [33.56643357 31.46853147 19.93006993 12.58741259  2.0979021   0.34965035]\n"
     ]
    },
    {
     "data": {
      "image/png": "[encoded data removed]",
      "text/plain": [
       "<Figure size 432x288 with 1 Axes>"
      ]
     },
     "metadata": {
      "needs_background": "light"
     },
     "output_type": "display_data"
    },
    {
     "name": "stdout",
     "output_type": "stream",
     "text": [
      "'premeno'    150\n",
      "'ge40'       129\n",
      "'lt40'         7\n",
      "Name: menopause, dtype: int64 \n",
      "\n",
      "Percentage:  [52.44755245 45.1048951   2.44755245]\n"
     ]
    },
    {
     "data": {
      "image/png": "[encoded data removed]",
      "text/plain": [
       "<Figure size 432x288 with 1 Axes>"
      ]
     },
     "metadata": {
      "needs_background": "light"
     },
     "output_type": "display_data"
    },
    {
     "name": "stdout",
     "output_type": "stream",
     "text": [
      "'30-34'    60\n",
      "'25-29'    54\n",
      "'20-24'    50\n",
      "'15-19'    30\n",
      "'10-14'    28\n",
      "'40-44'    22\n",
      "'35-39'    19\n",
      "'50-54'     8\n",
      "'0-4'       8\n",
      "'5-9'       4\n",
      "'45-49'     3\n",
      "Name: tumor-size, dtype: int64 \n",
      "\n",
      "Percentage:  [20.97902098 18.88111888 17.48251748 10.48951049  9.79020979  7.69230769\n",
      "  6.64335664  2.7972028   2.7972028   1.3986014   1.04895105]\n"
     ]
    },
    {
     "data": {
      "image/png": "[encoded data removed]",
      "text/plain": [
       "<Figure size 432x288 with 1 Axes>"
      ]
     },
     "metadata": {
      "needs_background": "light"
     },
     "output_type": "display_data"
    },
    {
     "name": "stdout",
     "output_type": "stream",
     "text": [
      "'0-2'      213\n",
      "'3-5'       36\n",
      "'6-8'       17\n",
      "'9-11'      10\n",
      "'15-17'      6\n",
      "'12-14'      3\n",
      "'24-26'      1\n",
      "Name: inv-nodes, dtype: int64 \n",
      "\n",
      "Percentage:  [74.47552448 12.58741259  5.94405594  3.4965035   2.0979021   1.04895105\n",
      "  0.34965035]\n"
     ]
    },
    {
     "data": {
      "image/png": "[encoded data removed]",
      "text/plain": [
       "<Figure size 432x288 with 1 Axes>"
      ]
     },
     "metadata": {
      "needs_background": "light"
     },
     "output_type": "display_data"
    },
    {
     "name": "stdout",
     "output_type": "stream",
     "text": [
      "'no'     222\n",
      "'yes'     56\n",
      "?          8\n",
      "Name: node-caps, dtype: int64 \n",
      "\n",
      "Percentage:  [77.62237762 19.58041958  2.7972028 ]\n"
     ]
    },
    {
     "data": {
      "image/png": "[encoded data removed]",
      "text/plain": [
       "<Figure size 432x288 with 1 Axes>"
      ]
     },
     "metadata": {
      "needs_background": "light"
     },
     "output_type": "display_data"
    },
    {
     "name": "stdout",
     "output_type": "stream",
     "text": [
      "'2'    130\n",
      "'3'     85\n",
      "'1'     71\n",
      "Name: deg-malig, dtype: int64 \n",
      "\n",
      "Percentage:  [45.45454545 29.72027972 24.82517483]\n"
     ]
    },
    {
     "data": {
      "image/png": "[encoded data removed]",
      "text/plain": [
       "<Figure size 432x288 with 1 Axes>"
      ]
     },
     "metadata": {
      "needs_background": "light"
     },
     "output_type": "display_data"
    },
    {
     "name": "stdout",
     "output_type": "stream",
     "text": [
      "'left'     152\n",
      "'right'    134\n",
      "Name: breast, dtype: int64 \n",
      "\n",
      "Percentage:  [53.14685315 46.85314685]\n"
     ]
    },
    {
     "data": {
      "image/png": "[encoded data removed]",
      "text/plain": [
       "<Figure size 432x288 with 1 Axes>"
      ]
     },
     "metadata": {
      "needs_background": "light"
     },
     "output_type": "display_data"
    },
    {
     "name": "stdout",
     "output_type": "stream",
     "text": [
      "'left_low'     110\n",
      "'left_up'       97\n",
      "'right_up'      33\n",
      "'right_low'     24\n",
      "'central'       21\n",
      "?                1\n",
      "Name: breast-quad, dtype: int64 \n",
      "\n",
      "Percentage:  [38.46153846 33.91608392 11.53846154  8.39160839  7.34265734  0.34965035]\n"
     ]
    },
    {
     "data": {
      "image/png": "[encoded data removed]",
      "text/plain": [
       "<Figure size 432x288 with 1 Axes>"
      ]
     },
     "metadata": {
      "needs_background": "light"
     },
     "output_type": "display_data"
    },
    {
     "name": "stdout",
     "output_type": "stream",
     "text": [
      "'no'     218\n",
      "'yes'     68\n",
      "Name: irradiat, dtype: int64 \n",
      "\n",
      "Percentage:  [76.22377622 23.77622378]\n"
     ]
    },
    {
     "data": {
      "image/png": "[encoded data removed]",
      "text/plain": [
       "<Figure size 432x288 with 1 Axes>"
      ]
     },
     "metadata": {
      "needs_background": "light"
     },
     "output_type": "display_data"
    },
    {
     "name": "stdout",
     "output_type": "stream",
     "text": [
      "'no-recurrence-events'    201\n",
      "'recurrence-events'        85\n",
      "Name: Class, dtype: int64 \n",
      "\n",
      "Percentage:  [70.27972028 29.72027972]\n"
     ]
    }
   ],
   "source": [
    "def get_data_statistics():\n",
    "    for column_head in data:\n",
    "        sns.countplot(x = column_head, data=data, palette='pastel')\n",
    "        plt.show()\n",
    "        \n",
    "        statistics = data[column_head].value_counts()\n",
    "        statistics_percentage = np.array(statistics)\n",
    "        \n",
    "        print(statistics, \"\\n\\nPercentage: \", (statistics_percentage/286)*100)\n",
    "\n",
    "get_data_statistics()"
   ]
  },
  {
   "cell_type": "code",
   "execution_count": 7,
   "metadata": {},
   "outputs": [
    {
     "name": "stdout",
     "output_type": "stream",
     "text": [
      "286\n"
     ]
    },
    {
     "data": {
      "text/html": [
       "<div>\n",
       "<style scoped>\n",
       "    .dataframe tbody tr th:only-of-type {\n",
       "        vertical-align: middle;\n",
       "    }\n",
       "\n",
       "    .dataframe tbody tr th {\n",
       "        vertical-align: top;\n",
       "    }\n",
       "\n",
       "    .dataframe thead th {\n",
       "        text-align: right;\n",
       "    }\n",
       "</style>\n",
       "<table border=\"1\" class=\"dataframe\">\n",
       "  <thead>\n",
       "    <tr style=\"text-align: right;\">\n",
       "      <th></th>\n",
       "      <th>age</th>\n",
       "      <th>menopause</th>\n",
       "      <th>tumor-size</th>\n",
       "      <th>inv-nodes</th>\n",
       "      <th>node-caps</th>\n",
       "      <th>deg-malig</th>\n",
       "      <th>breast</th>\n",
       "      <th>breast-quad</th>\n",
       "      <th>irradiat</th>\n",
       "      <th>Class</th>\n",
       "    </tr>\n",
       "  </thead>\n",
       "  <tbody>\n",
       "    <tr>\n",
       "      <th>0</th>\n",
       "      <td>40-49</td>\n",
       "      <td>premeno</td>\n",
       "      <td>15-19</td>\n",
       "      <td>0-2</td>\n",
       "      <td>yes</td>\n",
       "      <td>3</td>\n",
       "      <td>right</td>\n",
       "      <td>left_up</td>\n",
       "      <td>no</td>\n",
       "      <td>recurrence-events</td>\n",
       "    </tr>\n",
       "    <tr>\n",
       "      <th>1</th>\n",
       "      <td>50-59</td>\n",
       "      <td>ge40</td>\n",
       "      <td>15-19</td>\n",
       "      <td>0-2</td>\n",
       "      <td>no</td>\n",
       "      <td>1</td>\n",
       "      <td>right</td>\n",
       "      <td>central</td>\n",
       "      <td>no</td>\n",
       "      <td>no-recurrence-events</td>\n",
       "    </tr>\n",
       "    <tr>\n",
       "      <th>2</th>\n",
       "      <td>50-59</td>\n",
       "      <td>ge40</td>\n",
       "      <td>35-39</td>\n",
       "      <td>0-2</td>\n",
       "      <td>no</td>\n",
       "      <td>2</td>\n",
       "      <td>left</td>\n",
       "      <td>left_low</td>\n",
       "      <td>no</td>\n",
       "      <td>recurrence-events</td>\n",
       "    </tr>\n",
       "    <tr>\n",
       "      <th>3</th>\n",
       "      <td>40-49</td>\n",
       "      <td>premeno</td>\n",
       "      <td>35-39</td>\n",
       "      <td>0-2</td>\n",
       "      <td>yes</td>\n",
       "      <td>3</td>\n",
       "      <td>right</td>\n",
       "      <td>left_low</td>\n",
       "      <td>yes</td>\n",
       "      <td>no-recurrence-events</td>\n",
       "    </tr>\n",
       "    <tr>\n",
       "      <th>4</th>\n",
       "      <td>40-49</td>\n",
       "      <td>premeno</td>\n",
       "      <td>30-34</td>\n",
       "      <td>3-5</td>\n",
       "      <td>yes</td>\n",
       "      <td>2</td>\n",
       "      <td>left</td>\n",
       "      <td>right_up</td>\n",
       "      <td>no</td>\n",
       "      <td>recurrence-events</td>\n",
       "    </tr>\n",
       "  </tbody>\n",
       "</table>\n",
       "</div>"
      ],
      "text/plain": [
       "     age menopause tumor-size inv-nodes node-caps deg-malig breast  \\\n",
       "0  40-49   premeno      15-19       0-2       yes         3  right   \n",
       "1  50-59      ge40      15-19       0-2        no         1  right   \n",
       "2  50-59      ge40      35-39       0-2        no         2   left   \n",
       "3  40-49   premeno      35-39       0-2       yes         3  right   \n",
       "4  40-49   premeno      30-34       3-5       yes         2   left   \n",
       "\n",
       "  breast-quad irradiat                 Class  \n",
       "0     left_up       no     recurrence-events  \n",
       "1     central       no  no-recurrence-events  \n",
       "2    left_low       no     recurrence-events  \n",
       "3    left_low      yes  no-recurrence-events  \n",
       "4    right_up       no     recurrence-events  "
      ]
     },
     "execution_count": 7,
     "metadata": {},
     "output_type": "execute_result"
    }
   ],
   "source": [
    "df = data.apply(lambda x: x.str.strip(\"'\"))\n",
    "print(len(df))\n",
    "df.head()"
   ]
  },
  {
   "cell_type": "code",
   "execution_count": 8,
   "metadata": {},
   "outputs": [
    {
     "data": {
      "text/plain": [
       "Index(['age', 'menopause', 'tumor-size', 'inv-nodes', 'node-caps', 'deg-malig',\n",
       "       'breast', 'breast-quad', 'irradiat', 'Class'],\n",
       "      dtype='object')"
      ]
     },
     "execution_count": 8,
     "metadata": {},
     "output_type": "execute_result"
    }
   ],
   "source": [
    "df.columns"
   ]
  },
  {
   "cell_type": "markdown",
   "metadata": {},
   "source": [
    "**Преобразуем данные**"
   ]
  },
  {
   "cell_type": "code",
   "execution_count": 28,
   "metadata": {},
   "outputs": [],
   "source": [
    "names = ['Class', 'age','menopause','tumor-size',\n",
    "         'inv-nodes','node-caps','deg-malig','breast',\n",
    "         'breast-quad','irradiat']\n",
    "data.columns = names"
   ]
  },
  {
   "cell_type": "code",
   "execution_count": 30,
   "metadata": {
    "scrolled": true
   },
   "outputs": [
    {
     "data": {
      "text/plain": [
       "Class          category\n",
       "age            category\n",
       "menopause      category\n",
       "tumor-size     category\n",
       "inv-nodes      category\n",
       "node-caps      category\n",
       "deg-malig        object\n",
       "breast         category\n",
       "breast-quad    category\n",
       "irradiat       category\n",
       "dtype: object"
      ]
     },
     "execution_count": 30,
     "metadata": {},
     "output_type": "execute_result"
    }
   ],
   "source": [
    "for column in range(0, 10):\n",
    "    if column not in [6]:\n",
    "        data[names[column]] = data[names[column]].astype(\"category\")\n",
    "data.dtypes"
   ]
  },
  {
   "cell_type": "code",
   "execution_count": 31,
   "metadata": {},
   "outputs": [],
   "source": [
    "dfA = data[names]"
   ]
  },
  {
   "cell_type": "markdown",
   "metadata": {},
   "source": [
    "**Random forest classifer, score of model** = 0.7052631578947368"
   ]
  },
  {
   "cell_type": "code",
   "execution_count": 153,
   "metadata": {},
   "outputs": [],
   "source": [
    "dfB = pd.get_dummies(df)"
   ]
  },
  {
   "cell_type": "code",
   "execution_count": 154,
   "metadata": {},
   "outputs": [
    {
     "data": {
      "text/html": [
       "<div>\n",
       "<style scoped>\n",
       "    .dataframe tbody tr th:only-of-type {\n",
       "        vertical-align: middle;\n",
       "    }\n",
       "\n",
       "    .dataframe tbody tr th {\n",
       "        vertical-align: top;\n",
       "    }\n",
       "\n",
       "    .dataframe thead th {\n",
       "        text-align: right;\n",
       "    }\n",
       "</style>\n",
       "<table border=\"1\" class=\"dataframe\">\n",
       "  <thead>\n",
       "    <tr style=\"text-align: right;\">\n",
       "      <th></th>\n",
       "      <th>age_20-29</th>\n",
       "      <th>age_30-39</th>\n",
       "      <th>age_40-49</th>\n",
       "      <th>age_50-59</th>\n",
       "      <th>age_60-69</th>\n",
       "      <th>age_70-79</th>\n",
       "      <th>menopause_ge40</th>\n",
       "      <th>menopause_lt40</th>\n",
       "      <th>menopause_premeno</th>\n",
       "      <th>tumor-size_0-4</th>\n",
       "      <th>...</th>\n",
       "      <th>breast_right</th>\n",
       "      <th>breast-quad_?</th>\n",
       "      <th>breast-quad_central</th>\n",
       "      <th>breast-quad_left_low</th>\n",
       "      <th>breast-quad_left_up</th>\n",
       "      <th>breast-quad_right_low</th>\n",
       "      <th>breast-quad_right_up</th>\n",
       "      <th>irradiat_no</th>\n",
       "      <th>irradiat_yes</th>\n",
       "      <th>Class_no-recurrence-events</th>\n",
       "    </tr>\n",
       "  </thead>\n",
       "  <tbody>\n",
       "    <tr>\n",
       "      <th>0</th>\n",
       "      <td>0</td>\n",
       "      <td>0</td>\n",
       "      <td>1</td>\n",
       "      <td>0</td>\n",
       "      <td>0</td>\n",
       "      <td>0</td>\n",
       "      <td>0</td>\n",
       "      <td>0</td>\n",
       "      <td>1</td>\n",
       "      <td>0</td>\n",
       "      <td>...</td>\n",
       "      <td>1</td>\n",
       "      <td>0</td>\n",
       "      <td>0</td>\n",
       "      <td>0</td>\n",
       "      <td>1</td>\n",
       "      <td>0</td>\n",
       "      <td>0</td>\n",
       "      <td>1</td>\n",
       "      <td>0</td>\n",
       "      <td>0</td>\n",
       "    </tr>\n",
       "    <tr>\n",
       "      <th>1</th>\n",
       "      <td>0</td>\n",
       "      <td>0</td>\n",
       "      <td>0</td>\n",
       "      <td>1</td>\n",
       "      <td>0</td>\n",
       "      <td>0</td>\n",
       "      <td>1</td>\n",
       "      <td>0</td>\n",
       "      <td>0</td>\n",
       "      <td>0</td>\n",
       "      <td>...</td>\n",
       "      <td>1</td>\n",
       "      <td>0</td>\n",
       "      <td>1</td>\n",
       "      <td>0</td>\n",
       "      <td>0</td>\n",
       "      <td>0</td>\n",
       "      <td>0</td>\n",
       "      <td>1</td>\n",
       "      <td>0</td>\n",
       "      <td>1</td>\n",
       "    </tr>\n",
       "    <tr>\n",
       "      <th>2</th>\n",
       "      <td>0</td>\n",
       "      <td>0</td>\n",
       "      <td>0</td>\n",
       "      <td>1</td>\n",
       "      <td>0</td>\n",
       "      <td>0</td>\n",
       "      <td>1</td>\n",
       "      <td>0</td>\n",
       "      <td>0</td>\n",
       "      <td>0</td>\n",
       "      <td>...</td>\n",
       "      <td>0</td>\n",
       "      <td>0</td>\n",
       "      <td>0</td>\n",
       "      <td>1</td>\n",
       "      <td>0</td>\n",
       "      <td>0</td>\n",
       "      <td>0</td>\n",
       "      <td>1</td>\n",
       "      <td>0</td>\n",
       "      <td>0</td>\n",
       "    </tr>\n",
       "    <tr>\n",
       "      <th>3</th>\n",
       "      <td>0</td>\n",
       "      <td>0</td>\n",
       "      <td>1</td>\n",
       "      <td>0</td>\n",
       "      <td>0</td>\n",
       "      <td>0</td>\n",
       "      <td>0</td>\n",
       "      <td>0</td>\n",
       "      <td>1</td>\n",
       "      <td>0</td>\n",
       "      <td>...</td>\n",
       "      <td>1</td>\n",
       "      <td>0</td>\n",
       "      <td>0</td>\n",
       "      <td>1</td>\n",
       "      <td>0</td>\n",
       "      <td>0</td>\n",
       "      <td>0</td>\n",
       "      <td>0</td>\n",
       "      <td>1</td>\n",
       "      <td>1</td>\n",
       "    </tr>\n",
       "    <tr>\n",
       "      <th>4</th>\n",
       "      <td>0</td>\n",
       "      <td>0</td>\n",
       "      <td>1</td>\n",
       "      <td>0</td>\n",
       "      <td>0</td>\n",
       "      <td>0</td>\n",
       "      <td>0</td>\n",
       "      <td>0</td>\n",
       "      <td>1</td>\n",
       "      <td>0</td>\n",
       "      <td>...</td>\n",
       "      <td>0</td>\n",
       "      <td>0</td>\n",
       "      <td>0</td>\n",
       "      <td>0</td>\n",
       "      <td>0</td>\n",
       "      <td>0</td>\n",
       "      <td>1</td>\n",
       "      <td>1</td>\n",
       "      <td>0</td>\n",
       "      <td>0</td>\n",
       "    </tr>\n",
       "  </tbody>\n",
       "</table>\n",
       "<p>5 rows × 44 columns</p>\n",
       "</div>"
      ],
      "text/plain": [
       "   age_20-29  age_30-39  age_40-49  age_50-59  age_60-69  age_70-79  \\\n",
       "0          0          0          1          0          0          0   \n",
       "1          0          0          0          1          0          0   \n",
       "2          0          0          0          1          0          0   \n",
       "3          0          0          1          0          0          0   \n",
       "4          0          0          1          0          0          0   \n",
       "\n",
       "   menopause_ge40  menopause_lt40  menopause_premeno  tumor-size_0-4  \\\n",
       "0               0               0                  1               0   \n",
       "1               1               0                  0               0   \n",
       "2               1               0                  0               0   \n",
       "3               0               0                  1               0   \n",
       "4               0               0                  1               0   \n",
       "\n",
       "              ...              breast_right  breast-quad_?  \\\n",
       "0             ...                         1              0   \n",
       "1             ...                         1              0   \n",
       "2             ...                         0              0   \n",
       "3             ...                         1              0   \n",
       "4             ...                         0              0   \n",
       "\n",
       "   breast-quad_central  breast-quad_left_low  breast-quad_left_up  \\\n",
       "0                    0                     0                    1   \n",
       "1                    1                     0                    0   \n",
       "2                    0                     1                    0   \n",
       "3                    0                     1                    0   \n",
       "4                    0                     0                    0   \n",
       "\n",
       "   breast-quad_right_low  breast-quad_right_up  irradiat_no  irradiat_yes  \\\n",
       "0                      0                     0            1             0   \n",
       "1                      0                     0            1             0   \n",
       "2                      0                     0            1             0   \n",
       "3                      0                     0            0             1   \n",
       "4                      0                     1            1             0   \n",
       "\n",
       "   Class_no-recurrence-events  \n",
       "0                           0  \n",
       "1                           1  \n",
       "2                           0  \n",
       "3                           1  \n",
       "4                           0  \n",
       "\n",
       "[5 rows x 44 columns]"
      ]
     },
     "execution_count": 154,
     "metadata": {},
     "output_type": "execute_result"
    }
   ],
   "source": [
    "dfB.head()"
   ]
  },
  {
   "cell_type": "code",
   "execution_count": 168,
   "metadata": {},
   "outputs": [],
   "source": [
    "#удалим из таблицы Class_no-recurrence-events\n",
    "X = dfB.drop('Class_no-recurrence-events', axis=1)\n",
    "y = dfB['Class_no-recurrence-events']"
   ]
  },
  {
   "cell_type": "code",
   "execution_count": 156,
   "metadata": {},
   "outputs": [
    {
     "data": {
      "text/html": [
       "<div>\n",
       "<style scoped>\n",
       "    .dataframe tbody tr th:only-of-type {\n",
       "        vertical-align: middle;\n",
       "    }\n",
       "\n",
       "    .dataframe tbody tr th {\n",
       "        vertical-align: top;\n",
       "    }\n",
       "\n",
       "    .dataframe thead th {\n",
       "        text-align: right;\n",
       "    }\n",
       "</style>\n",
       "<table border=\"1\" class=\"dataframe\">\n",
       "  <thead>\n",
       "    <tr style=\"text-align: right;\">\n",
       "      <th></th>\n",
       "      <th>age_20-29</th>\n",
       "      <th>age_30-39</th>\n",
       "      <th>age_40-49</th>\n",
       "      <th>age_50-59</th>\n",
       "      <th>age_60-69</th>\n",
       "      <th>age_70-79</th>\n",
       "      <th>menopause_ge40</th>\n",
       "      <th>menopause_lt40</th>\n",
       "      <th>menopause_premeno</th>\n",
       "      <th>tumor-size_0-4</th>\n",
       "      <th>...</th>\n",
       "      <th>breast_left</th>\n",
       "      <th>breast_right</th>\n",
       "      <th>breast-quad_?</th>\n",
       "      <th>breast-quad_central</th>\n",
       "      <th>breast-quad_left_low</th>\n",
       "      <th>breast-quad_left_up</th>\n",
       "      <th>breast-quad_right_low</th>\n",
       "      <th>breast-quad_right_up</th>\n",
       "      <th>irradiat_no</th>\n",
       "      <th>irradiat_yes</th>\n",
       "    </tr>\n",
       "  </thead>\n",
       "  <tbody>\n",
       "    <tr>\n",
       "      <th>0</th>\n",
       "      <td>0</td>\n",
       "      <td>0</td>\n",
       "      <td>1</td>\n",
       "      <td>0</td>\n",
       "      <td>0</td>\n",
       "      <td>0</td>\n",
       "      <td>0</td>\n",
       "      <td>0</td>\n",
       "      <td>1</td>\n",
       "      <td>0</td>\n",
       "      <td>...</td>\n",
       "      <td>0</td>\n",
       "      <td>1</td>\n",
       "      <td>0</td>\n",
       "      <td>0</td>\n",
       "      <td>0</td>\n",
       "      <td>1</td>\n",
       "      <td>0</td>\n",
       "      <td>0</td>\n",
       "      <td>1</td>\n",
       "      <td>0</td>\n",
       "    </tr>\n",
       "    <tr>\n",
       "      <th>1</th>\n",
       "      <td>0</td>\n",
       "      <td>0</td>\n",
       "      <td>0</td>\n",
       "      <td>1</td>\n",
       "      <td>0</td>\n",
       "      <td>0</td>\n",
       "      <td>1</td>\n",
       "      <td>0</td>\n",
       "      <td>0</td>\n",
       "      <td>0</td>\n",
       "      <td>...</td>\n",
       "      <td>0</td>\n",
       "      <td>1</td>\n",
       "      <td>0</td>\n",
       "      <td>1</td>\n",
       "      <td>0</td>\n",
       "      <td>0</td>\n",
       "      <td>0</td>\n",
       "      <td>0</td>\n",
       "      <td>1</td>\n",
       "      <td>0</td>\n",
       "    </tr>\n",
       "    <tr>\n",
       "      <th>2</th>\n",
       "      <td>0</td>\n",
       "      <td>0</td>\n",
       "      <td>0</td>\n",
       "      <td>1</td>\n",
       "      <td>0</td>\n",
       "      <td>0</td>\n",
       "      <td>1</td>\n",
       "      <td>0</td>\n",
       "      <td>0</td>\n",
       "      <td>0</td>\n",
       "      <td>...</td>\n",
       "      <td>1</td>\n",
       "      <td>0</td>\n",
       "      <td>0</td>\n",
       "      <td>0</td>\n",
       "      <td>1</td>\n",
       "      <td>0</td>\n",
       "      <td>0</td>\n",
       "      <td>0</td>\n",
       "      <td>1</td>\n",
       "      <td>0</td>\n",
       "    </tr>\n",
       "    <tr>\n",
       "      <th>3</th>\n",
       "      <td>0</td>\n",
       "      <td>0</td>\n",
       "      <td>1</td>\n",
       "      <td>0</td>\n",
       "      <td>0</td>\n",
       "      <td>0</td>\n",
       "      <td>0</td>\n",
       "      <td>0</td>\n",
       "      <td>1</td>\n",
       "      <td>0</td>\n",
       "      <td>...</td>\n",
       "      <td>0</td>\n",
       "      <td>1</td>\n",
       "      <td>0</td>\n",
       "      <td>0</td>\n",
       "      <td>1</td>\n",
       "      <td>0</td>\n",
       "      <td>0</td>\n",
       "      <td>0</td>\n",
       "      <td>0</td>\n",
       "      <td>1</td>\n",
       "    </tr>\n",
       "    <tr>\n",
       "      <th>4</th>\n",
       "      <td>0</td>\n",
       "      <td>0</td>\n",
       "      <td>1</td>\n",
       "      <td>0</td>\n",
       "      <td>0</td>\n",
       "      <td>0</td>\n",
       "      <td>0</td>\n",
       "      <td>0</td>\n",
       "      <td>1</td>\n",
       "      <td>0</td>\n",
       "      <td>...</td>\n",
       "      <td>1</td>\n",
       "      <td>0</td>\n",
       "      <td>0</td>\n",
       "      <td>0</td>\n",
       "      <td>0</td>\n",
       "      <td>0</td>\n",
       "      <td>0</td>\n",
       "      <td>1</td>\n",
       "      <td>1</td>\n",
       "      <td>0</td>\n",
       "    </tr>\n",
       "  </tbody>\n",
       "</table>\n",
       "<p>5 rows × 43 columns</p>\n",
       "</div>"
      ],
      "text/plain": [
       "   age_20-29  age_30-39  age_40-49  age_50-59  age_60-69  age_70-79  \\\n",
       "0          0          0          1          0          0          0   \n",
       "1          0          0          0          1          0          0   \n",
       "2          0          0          0          1          0          0   \n",
       "3          0          0          1          0          0          0   \n",
       "4          0          0          1          0          0          0   \n",
       "\n",
       "   menopause_ge40  menopause_lt40  menopause_premeno  tumor-size_0-4  \\\n",
       "0               0               0                  1               0   \n",
       "1               1               0                  0               0   \n",
       "2               1               0                  0               0   \n",
       "3               0               0                  1               0   \n",
       "4               0               0                  1               0   \n",
       "\n",
       "       ...       breast_left  breast_right  breast-quad_?  \\\n",
       "0      ...                 0             1              0   \n",
       "1      ...                 0             1              0   \n",
       "2      ...                 1             0              0   \n",
       "3      ...                 0             1              0   \n",
       "4      ...                 1             0              0   \n",
       "\n",
       "   breast-quad_central  breast-quad_left_low  breast-quad_left_up  \\\n",
       "0                    0                     0                    1   \n",
       "1                    1                     0                    0   \n",
       "2                    0                     1                    0   \n",
       "3                    0                     1                    0   \n",
       "4                    0                     0                    0   \n",
       "\n",
       "   breast-quad_right_low  breast-quad_right_up  irradiat_no  irradiat_yes  \n",
       "0                      0                     0            1             0  \n",
       "1                      0                     0            1             0  \n",
       "2                      0                     0            1             0  \n",
       "3                      0                     0            0             1  \n",
       "4                      0                     1            1             0  \n",
       "\n",
       "[5 rows x 43 columns]"
      ]
     },
     "execution_count": 156,
     "metadata": {},
     "output_type": "execute_result"
    }
   ],
   "source": [
    "X.head()"
   ]
  },
  {
   "cell_type": "code",
   "execution_count": 161,
   "metadata": {},
   "outputs": [],
   "source": [
    "X_train, X_test, y_train, y_test = train_test_split(X, y, test_size=0.33, random_state=69)"
   ]
  },
  {
   "cell_type": "code",
   "execution_count": 162,
   "metadata": {},
   "outputs": [
    {
     "name": "stderr",
     "output_type": "stream",
     "text": [
      "C:\\Users\\linfli\\Anaconda3\\lib\\site-packages\\sklearn\\ensemble\\forest.py:246: FutureWarning: The default value of n_estimators will change from 10 in version 0.20 to 100 in 0.22.\n",
      "  \"10 in version 0.20 to 100 in 0.22.\", FutureWarning)\n"
     ]
    },
    {
     "data": {
      "text/plain": [
       "RandomForestClassifier(bootstrap=True, class_weight=None, criterion='gini',\n",
       "            max_depth=None, max_features='auto', max_leaf_nodes=None,\n",
       "            min_impurity_decrease=0.0, min_impurity_split=None,\n",
       "            min_samples_leaf=1, min_samples_split=2,\n",
       "            min_weight_fraction_leaf=0.0, n_estimators=10, n_jobs=None,\n",
       "            oob_score=False, random_state=None, verbose=0,\n",
       "            warm_start=False)"
      ]
     },
     "execution_count": 162,
     "metadata": {},
     "output_type": "execute_result"
    }
   ],
   "source": [
    "model = RandomForestClassifier()\n",
    "model.fit(X_train, y_train)"
   ]
  },
  {
   "cell_type": "code",
   "execution_count": 163,
   "metadata": {},
   "outputs": [
    {
     "name": "stdout",
     "output_type": "stream",
     "text": [
      "0.7052631578947368\n"
     ]
    }
   ],
   "source": [
    "print(model.score(X_test, y_test))"
   ]
  },
  {
   "cell_type": "markdown",
   "metadata": {},
   "source": [
    "**Logistic regression** <br>\n",
    "score(X_train, y_train) = 0.7801047120418848<br>\n",
    "score(X_test, y_test) = 0.6947368421052632"
   ]
  },
  {
   "cell_type": "code",
   "execution_count": 164,
   "metadata": {},
   "outputs": [],
   "source": [
    "lr = LogisticRegression()"
   ]
  },
  {
   "cell_type": "code",
   "execution_count": 166,
   "metadata": {},
   "outputs": [
    {
     "name": "stderr",
     "output_type": "stream",
     "text": [
      "C:\\Users\\linfli\\Anaconda3\\lib\\site-packages\\sklearn\\linear_model\\logistic.py:433: FutureWarning: Default solver will be changed to 'lbfgs' in 0.22. Specify a solver to silence this warning.\n",
      "  FutureWarning)\n"
     ]
    },
    {
     "data": {
      "text/plain": [
       "LogisticRegression(C=1.0, class_weight=None, dual=False, fit_intercept=True,\n",
       "          intercept_scaling=1, max_iter=100, multi_class='warn',\n",
       "          n_jobs=None, penalty='l2', random_state=None, solver='warn',\n",
       "          tol=0.0001, verbose=0, warm_start=False)"
      ]
     },
     "execution_count": 166,
     "metadata": {},
     "output_type": "execute_result"
    }
   ],
   "source": [
    "lr.fit(X_train, y_train)"
   ]
  },
  {
   "cell_type": "code",
   "execution_count": 167,
   "metadata": {},
   "outputs": [
    {
     "data": {
      "text/plain": [
       "array([[ 0.07435905, -0.09344824,  0.18941633,  0.35221654, -0.11018011,\n",
       "        -0.24077171,  0.4327874 , -0.23747768, -0.02371786,  0.21792977,\n",
       "         0.89089392, -0.12749874, -0.60620679, -0.61153251, -0.43669365,\n",
       "         0.59823739, -0.40296956,  0.57213117,  0.25329628, -0.1759954 ,\n",
       "         0.63917632, -0.19880385,  0.16480046, -0.20834709,  0.14992038,\n",
       "        -0.34504429, -0.03011008,  0.16642562,  0.16352182, -0.15835558,\n",
       "         0.42506677,  0.63842089, -0.89189579, -0.12954647,  0.30113833,\n",
       "        -0.47862298,  0.0744786 ,  0.08574575, -0.15142323,  0.77564889,\n",
       "        -0.13423517,  0.09182724,  0.07976462]])"
      ]
     },
     "execution_count": 167,
     "metadata": {},
     "output_type": "execute_result"
    }
   ],
   "source": [
    "lr.coef_"
   ]
  },
  {
   "cell_type": "code",
   "execution_count": 169,
   "metadata": {},
   "outputs": [
    {
     "data": {
      "text/plain": [
       "0.7801047120418848"
      ]
     },
     "execution_count": 169,
     "metadata": {},
     "output_type": "execute_result"
    }
   ],
   "source": [
    "lr.score(X_train, y_train)"
   ]
  },
  {
   "cell_type": "code",
   "execution_count": 171,
   "metadata": {},
   "outputs": [
    {
     "data": {
      "text/plain": [
       "0.6947368421052632"
      ]
     },
     "execution_count": 171,
     "metadata": {},
     "output_type": "execute_result"
    }
   ],
   "source": [
    "lr.score(X_test, y_test)"
   ]
  },
  {
   "cell_type": "code",
   "execution_count": 265,
   "metadata": {},
   "outputs": [],
   "source": [
    "y_pred = lr.predict(X_test)"
   ]
  },
  {
   "cell_type": "code",
   "execution_count": 261,
   "metadata": {},
   "outputs": [
    {
     "data": {
      "text/html": [
       "<div>\n",
       "<style scoped>\n",
       "    .dataframe tbody tr th:only-of-type {\n",
       "        vertical-align: middle;\n",
       "    }\n",
       "\n",
       "    .dataframe tbody tr th {\n",
       "        vertical-align: top;\n",
       "    }\n",
       "\n",
       "    .dataframe thead th {\n",
       "        text-align: right;\n",
       "    }\n",
       "</style>\n",
       "<table border=\"1\" class=\"dataframe\">\n",
       "  <thead>\n",
       "    <tr style=\"text-align: right;\">\n",
       "      <th></th>\n",
       "      <th>coef</th>\n",
       "    </tr>\n",
       "  </thead>\n",
       "  <tbody>\n",
       "    <tr>\n",
       "      <th>deg-malig_3</th>\n",
       "      <td>0.253878</td>\n",
       "    </tr>\n",
       "    <tr>\n",
       "      <th>inv-nodes_0-2</th>\n",
       "      <td>0.054760</td>\n",
       "    </tr>\n",
       "    <tr>\n",
       "      <th>node-caps_yes</th>\n",
       "      <td>0.052617</td>\n",
       "    </tr>\n",
       "    <tr>\n",
       "      <th>breast-quad_left_low</th>\n",
       "      <td>0.049913</td>\n",
       "    </tr>\n",
       "    <tr>\n",
       "      <th>inv-nodes_3-5</th>\n",
       "      <td>0.043602</td>\n",
       "    </tr>\n",
       "    <tr>\n",
       "      <th>node-caps_?</th>\n",
       "      <td>0.040494</td>\n",
       "    </tr>\n",
       "    <tr>\n",
       "      <th>age_40-49</th>\n",
       "      <td>0.040341</td>\n",
       "    </tr>\n",
       "    <tr>\n",
       "      <th>tumor-size_25-29</th>\n",
       "      <td>0.031760</td>\n",
       "    </tr>\n",
       "    <tr>\n",
       "      <th>tumor-size_40-44</th>\n",
       "      <td>0.028936</td>\n",
       "    </tr>\n",
       "    <tr>\n",
       "      <th>breast_right</th>\n",
       "      <td>0.027507</td>\n",
       "    </tr>\n",
       "    <tr>\n",
       "      <th>breast-quad_right_up</th>\n",
       "      <td>0.027051</td>\n",
       "    </tr>\n",
       "    <tr>\n",
       "      <th>tumor-size_10-14</th>\n",
       "      <td>0.026775</td>\n",
       "    </tr>\n",
       "    <tr>\n",
       "      <th>breast-quad_left_up</th>\n",
       "      <td>0.024763</td>\n",
       "    </tr>\n",
       "    <tr>\n",
       "      <th>tumor-size_20-24</th>\n",
       "      <td>0.023458</td>\n",
       "    </tr>\n",
       "    <tr>\n",
       "      <th>tumor-size_35-39</th>\n",
       "      <td>0.021612</td>\n",
       "    </tr>\n",
       "    <tr>\n",
       "      <th>breast-quad_central</th>\n",
       "      <td>0.018389</td>\n",
       "    </tr>\n",
       "    <tr>\n",
       "      <th>menopause_premeno</th>\n",
       "      <td>0.018039</td>\n",
       "    </tr>\n",
       "    <tr>\n",
       "      <th>tumor-size_30-34</th>\n",
       "      <td>0.017621</td>\n",
       "    </tr>\n",
       "    <tr>\n",
       "      <th>inv-nodes_6-8</th>\n",
       "      <td>0.017603</td>\n",
       "    </tr>\n",
       "    <tr>\n",
       "      <th>irradiat_no</th>\n",
       "      <td>0.016957</td>\n",
       "    </tr>\n",
       "    <tr>\n",
       "      <th>age_60-69</th>\n",
       "      <td>0.016593</td>\n",
       "    </tr>\n",
       "    <tr>\n",
       "      <th>breast-quad_right_low</th>\n",
       "      <td>0.016092</td>\n",
       "    </tr>\n",
       "    <tr>\n",
       "      <th>menopause_ge40</th>\n",
       "      <td>0.014974</td>\n",
       "    </tr>\n",
       "    <tr>\n",
       "      <th>tumor-size_50-54</th>\n",
       "      <td>0.013708</td>\n",
       "    </tr>\n",
       "    <tr>\n",
       "      <th>irradiat_yes</th>\n",
       "      <td>0.012885</td>\n",
       "    </tr>\n",
       "    <tr>\n",
       "      <th>breast-quad_?</th>\n",
       "      <td>0.012621</td>\n",
       "    </tr>\n",
       "    <tr>\n",
       "      <th>tumor-size_45-49</th>\n",
       "      <td>0.010926</td>\n",
       "    </tr>\n",
       "    <tr>\n",
       "      <th>inv-nodes_9-11</th>\n",
       "      <td>0.009756</td>\n",
       "    </tr>\n",
       "    <tr>\n",
       "      <th>deg-malig_2</th>\n",
       "      <td>0.009041</td>\n",
       "    </tr>\n",
       "    <tr>\n",
       "      <th>breast_left</th>\n",
       "      <td>0.008624</td>\n",
       "    </tr>\n",
       "    <tr>\n",
       "      <th>deg-malig_1</th>\n",
       "      <td>0.007238</td>\n",
       "    </tr>\n",
       "    <tr>\n",
       "      <th>tumor-size_15-19</th>\n",
       "      <td>0.006591</td>\n",
       "    </tr>\n",
       "    <tr>\n",
       "      <th>age_50-59</th>\n",
       "      <td>0.005270</td>\n",
       "    </tr>\n",
       "    <tr>\n",
       "      <th>age_30-39</th>\n",
       "      <td>0.003477</td>\n",
       "    </tr>\n",
       "    <tr>\n",
       "      <th>menopause_lt40</th>\n",
       "      <td>0.003236</td>\n",
       "    </tr>\n",
       "    <tr>\n",
       "      <th>inv-nodes_15-17</th>\n",
       "      <td>0.003112</td>\n",
       "    </tr>\n",
       "    <tr>\n",
       "      <th>age_70-79</th>\n",
       "      <td>0.003017</td>\n",
       "    </tr>\n",
       "    <tr>\n",
       "      <th>tumor-size_5-9</th>\n",
       "      <td>0.002839</td>\n",
       "    </tr>\n",
       "    <tr>\n",
       "      <th>node-caps_no</th>\n",
       "      <td>0.002057</td>\n",
       "    </tr>\n",
       "    <tr>\n",
       "      <th>inv-nodes_12-14</th>\n",
       "      <td>0.000890</td>\n",
       "    </tr>\n",
       "    <tr>\n",
       "      <th>tumor-size_0-4</th>\n",
       "      <td>0.000669</td>\n",
       "    </tr>\n",
       "    <tr>\n",
       "      <th>inv-nodes_24-26</th>\n",
       "      <td>0.000308</td>\n",
       "    </tr>\n",
       "    <tr>\n",
       "      <th>age_20-29</th>\n",
       "      <td>0.000000</td>\n",
       "    </tr>\n",
       "  </tbody>\n",
       "</table>\n",
       "</div>"
      ],
      "text/plain": [
       "                           coef\n",
       "deg-malig_3            0.253878\n",
       "inv-nodes_0-2          0.054760\n",
       "node-caps_yes          0.052617\n",
       "breast-quad_left_low   0.049913\n",
       "inv-nodes_3-5          0.043602\n",
       "node-caps_?            0.040494\n",
       "age_40-49              0.040341\n",
       "tumor-size_25-29       0.031760\n",
       "tumor-size_40-44       0.028936\n",
       "breast_right           0.027507\n",
       "breast-quad_right_up   0.027051\n",
       "tumor-size_10-14       0.026775\n",
       "breast-quad_left_up    0.024763\n",
       "tumor-size_20-24       0.023458\n",
       "tumor-size_35-39       0.021612\n",
       "breast-quad_central    0.018389\n",
       "menopause_premeno      0.018039\n",
       "tumor-size_30-34       0.017621\n",
       "inv-nodes_6-8          0.017603\n",
       "irradiat_no            0.016957\n",
       "age_60-69              0.016593\n",
       "breast-quad_right_low  0.016092\n",
       "menopause_ge40         0.014974\n",
       "tumor-size_50-54       0.013708\n",
       "irradiat_yes           0.012885\n",
       "breast-quad_?          0.012621\n",
       "tumor-size_45-49       0.010926\n",
       "inv-nodes_9-11         0.009756\n",
       "deg-malig_2            0.009041\n",
       "breast_left            0.008624\n",
       "deg-malig_1            0.007238\n",
       "tumor-size_15-19       0.006591\n",
       "age_50-59              0.005270\n",
       "age_30-39              0.003477\n",
       "menopause_lt40         0.003236\n",
       "inv-nodes_15-17        0.003112\n",
       "age_70-79              0.003017\n",
       "tumor-size_5-9         0.002839\n",
       "node-caps_no           0.002057\n",
       "inv-nodes_12-14        0.000890\n",
       "tumor-size_0-4         0.000669\n",
       "inv-nodes_24-26        0.000308\n",
       "age_20-29              0.000000"
      ]
     },
     "execution_count": 261,
     "metadata": {},
     "output_type": "execute_result"
    }
   ],
   "source": [
    "clfcoef = pd.DataFrame(clf.feature_importances_,  dfB.drop('Class_no-recurrence-events', axis=1).columns, columns=['coef'])\n",
    "clfcoef.sort_values(by=['coef'], ascending=False)"
   ]
  },
  {
   "cell_type": "markdown",
   "metadata": {},
   "source": [
    "deg-malig имеет наибольший коэффициент"
   ]
  },
  {
   "cell_type": "markdown",
   "metadata": {},
   "source": [
    "**Decision tree**"
   ]
  },
  {
   "cell_type": "code",
   "execution_count": 173,
   "metadata": {},
   "outputs": [
    {
     "name": "stdout",
     "output_type": "stream",
     "text": [
      "Real:0 Predicted:1\n",
      "Real:1 Predicted:1\n",
      "Real:1 Predicted:1\n",
      "Real:1 Predicted:1\n",
      "Real:0 Predicted:1\n",
      "Real:1 Predicted:0\n",
      "Real:1 Predicted:1\n",
      "Real:1 Predicted:1\n",
      "Real:0 Predicted:0\n",
      "Real:0 Predicted:1\n",
      "Real:1 Predicted:1\n",
      "Real:1 Predicted:1\n",
      "Real:1 Predicted:1\n",
      "Real:1 Predicted:1\n",
      "Real:1 Predicted:1\n",
      "Real:1 Predicted:1\n",
      "Real:1 Predicted:1\n",
      "Real:1 Predicted:1\n",
      "Real:1 Predicted:1\n",
      "Real:0 Predicted:1\n",
      "Real:1 Predicted:1\n",
      "Real:1 Predicted:1\n",
      "Real:1 Predicted:1\n",
      "Real:0 Predicted:1\n",
      "Real:1 Predicted:1\n",
      "Real:1 Predicted:1\n",
      "Real:1 Predicted:1\n",
      "Real:1 Predicted:1\n",
      "Real:0 Predicted:1\n",
      "Real:0 Predicted:1\n",
      "Real:1 Predicted:1\n",
      "Real:1 Predicted:1\n",
      "Real:0 Predicted:0\n",
      "Real:1 Predicted:1\n",
      "Real:1 Predicted:1\n",
      "Real:1 Predicted:1\n",
      "Real:1 Predicted:0\n",
      "Real:1 Predicted:1\n",
      "Real:0 Predicted:1\n",
      "Real:1 Predicted:1\n",
      "Real:1 Predicted:0\n",
      "Real:0 Predicted:1\n",
      "Real:1 Predicted:1\n",
      "Real:1 Predicted:1\n",
      "Real:0 Predicted:1\n",
      "Real:1 Predicted:1\n",
      "Real:0 Predicted:1\n",
      "Real:1 Predicted:1\n",
      "Real:0 Predicted:1\n",
      "Real:0 Predicted:1\n",
      "Real:0 Predicted:1\n",
      "Real:1 Predicted:1\n",
      "Real:1 Predicted:1\n",
      "Real:1 Predicted:1\n",
      "Real:1 Predicted:1\n",
      "Real:1 Predicted:1\n",
      "Real:1 Predicted:1\n",
      "Real:1 Predicted:1\n",
      "Real:1 Predicted:1\n",
      "Real:0 Predicted:1\n",
      "Real:0 Predicted:1\n",
      "Real:0 Predicted:1\n",
      "Real:1 Predicted:1\n",
      "Real:0 Predicted:1\n",
      "Real:1 Predicted:1\n",
      "Real:1 Predicted:1\n",
      "Real:0 Predicted:1\n",
      "Real:1 Predicted:1\n",
      "Real:1 Predicted:0\n",
      "Real:1 Predicted:0\n",
      "Real:0 Predicted:0\n",
      "Real:1 Predicted:1\n",
      "Real:0 Predicted:1\n",
      "Real:1 Predicted:1\n",
      "Real:0 Predicted:0\n",
      "Real:1 Predicted:1\n",
      "Real:0 Predicted:1\n",
      "Real:1 Predicted:1\n",
      "Real:1 Predicted:1\n",
      "Real:1 Predicted:1\n",
      "Real:0 Predicted:0\n",
      "Real:0 Predicted:1\n",
      "Real:0 Predicted:1\n",
      "Real:1 Predicted:1\n",
      "Real:0 Predicted:1\n",
      "Real:1 Predicted:1\n",
      "Real:1 Predicted:1\n",
      "Real:1 Predicted:1\n",
      "Real:1 Predicted:1\n",
      "Real:1 Predicted:1\n",
      "Real:1 Predicted:1\n",
      "Real:1 Predicted:1\n",
      "Real:1 Predicted:1\n",
      "Real:1 Predicted:1\n",
      "Real:1 Predicted:1\n"
     ]
    }
   ],
   "source": [
    "for idx, y in enumerate(y_test):\n",
    "    print('Real:' + str(y) + ' Predicted:'+str(y_pred[idx]))"
   ]
  },
  {
   "cell_type": "code",
   "execution_count": 176,
   "metadata": {},
   "outputs": [],
   "source": [
    "classfier = DecisionTreeClassifier()"
   ]
  },
  {
   "cell_type": "code",
   "execution_count": 177,
   "metadata": {},
   "outputs": [
    {
     "data": {
      "text/plain": [
       "DecisionTreeClassifier(class_weight=None, criterion='gini', max_depth=None,\n",
       "            max_features=None, max_leaf_nodes=None,\n",
       "            min_impurity_decrease=0.0, min_impurity_split=None,\n",
       "            min_samples_leaf=1, min_samples_split=2,\n",
       "            min_weight_fraction_leaf=0.0, presort=False, random_state=None,\n",
       "            splitter='best')"
      ]
     },
     "execution_count": 177,
     "metadata": {},
     "output_type": "execute_result"
    }
   ],
   "source": [
    "classfier.fit(X_train, y_train)"
   ]
  },
  {
   "cell_type": "code",
   "execution_count": 178,
   "metadata": {},
   "outputs": [
    {
     "data": {
      "text/plain": [
       "0.9895287958115183"
      ]
     },
     "execution_count": 178,
     "metadata": {},
     "output_type": "execute_result"
    }
   ],
   "source": [
    "classfier.score(X_train, y_train)"
   ]
  },
  {
   "cell_type": "code",
   "execution_count": 179,
   "metadata": {},
   "outputs": [
    {
     "data": {
      "text/plain": [
       "0.6421052631578947"
      ]
     },
     "execution_count": 179,
     "metadata": {},
     "output_type": "execute_result"
    }
   ],
   "source": [
    "classfier.score(X_test, y_test)"
   ]
  },
  {
   "cell_type": "code",
   "execution_count": null,
   "metadata": {},
   "outputs": [],
   "source": []
  }
 ],
 "metadata": {
  "kernelspec": {
   "display_name": "Python 3",
   "language": "python",
   "name": "python3"
  },
  "language_info": {
   "codemirror_mode": {
    "name": "ipython",
    "version": 3
   },
   "file_extension": ".py",
   "mimetype": "text/x-python",
   "name": "python",
   "nbconvert_exporter": "python",
   "pygments_lexer": "ipython3",
   "version": "3.7.0"
  }
 },
 "nbformat": 4,
 "nbformat_minor": 2
}
